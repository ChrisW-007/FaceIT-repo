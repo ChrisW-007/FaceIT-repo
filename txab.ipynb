{
 "cells": [
  {
   "cell_type": "code",
   "execution_count": 218,
   "metadata": {},
   "outputs": [],
   "source": [
    "# import all necessary libraries\n",
    "\n",
    "import numpy as np\n",
    "import pandas as pd\n",
    "import matplotlib.pyplot as plt\n",
    "import seaborn as sns\n",
    "\n",
    "# to scale the data using z-score\n",
    "from sklearn.model_selection import train_test_split\n",
    "\n",
    "# Algorithms to use\n",
    "from sklearn.linear_model import LinearRegression\n",
    "\n",
    "#to build SVM model\n",
    "from sklearn.svm import SVC\n",
    "\n",
    "#Metrics to evaluate the model\n",
    "from sklearn.metrics import confusion_matrix, classification_report, precision_recall_curve\n",
    "\n",
    "\n",
    "#to ignore warnings\n",
    "import warnings\n",
    "warnings.filterwarnings(\"ignore\")\n"
   ]
  },
  {
   "cell_type": "code",
   "execution_count": 187,
   "metadata": {},
   "outputs": [],
   "source": [
    "\n",
    "df = pd.read_csv('~/Desktop/data_scientist_task/toxicity.csv')"
   ]
  },
  {
   "cell_type": "code",
   "execution_count": 188,
   "metadata": {},
   "outputs": [
    {
     "data": {
      "text/html": [
       "<div>\n",
       "<style scoped>\n",
       "    .dataframe tbody tr th:only-of-type {\n",
       "        vertical-align: middle;\n",
       "    }\n",
       "\n",
       "    .dataframe tbody tr th {\n",
       "        vertical-align: top;\n",
       "    }\n",
       "\n",
       "    .dataframe thead th {\n",
       "        text-align: right;\n",
       "    }\n",
       "</style>\n",
       "<table border=\"1\" class=\"dataframe\">\n",
       "  <thead>\n",
       "    <tr style=\"text-align: right;\">\n",
       "      <th></th>\n",
       "      <th>row</th>\n",
       "      <th>flirtation</th>\n",
       "      <th>identity_attack</th>\n",
       "      <th>insult</th>\n",
       "      <th>severe_toxicity</th>\n",
       "      <th>sexually_explicit</th>\n",
       "      <th>threat</th>\n",
       "      <th>label</th>\n",
       "    </tr>\n",
       "  </thead>\n",
       "  <tbody>\n",
       "    <tr>\n",
       "      <th>0</th>\n",
       "      <td>0</td>\n",
       "      <td>0.593828</td>\n",
       "      <td>0.563516</td>\n",
       "      <td>0.849090</td>\n",
       "      <td>0.864632</td>\n",
       "      <td>0.777347</td>\n",
       "      <td>0.602494</td>\n",
       "      <td>Offensive</td>\n",
       "    </tr>\n",
       "    <tr>\n",
       "      <th>1</th>\n",
       "      <td>1</td>\n",
       "      <td>0.213193</td>\n",
       "      <td>0.407253</td>\n",
       "      <td>0.925010</td>\n",
       "      <td>0.856451</td>\n",
       "      <td>0.456983</td>\n",
       "      <td>0.592931</td>\n",
       "      <td>Offensive</td>\n",
       "    </tr>\n",
       "    <tr>\n",
       "      <th>2</th>\n",
       "      <td>2</td>\n",
       "      <td>0.474532</td>\n",
       "      <td>0.323574</td>\n",
       "      <td>0.710831</td>\n",
       "      <td>0.747318</td>\n",
       "      <td>0.933715</td>\n",
       "      <td>0.208848</td>\n",
       "      <td>Very offensive</td>\n",
       "    </tr>\n",
       "    <tr>\n",
       "      <th>3</th>\n",
       "      <td>3</td>\n",
       "      <td>0.503426</td>\n",
       "      <td>0.407557</td>\n",
       "      <td>0.796685</td>\n",
       "      <td>0.854638</td>\n",
       "      <td>0.955973</td>\n",
       "      <td>0.343336</td>\n",
       "      <td>Neutral</td>\n",
       "    </tr>\n",
       "    <tr>\n",
       "      <th>4</th>\n",
       "      <td>4</td>\n",
       "      <td>0.394807</td>\n",
       "      <td>0.170078</td>\n",
       "      <td>0.561849</td>\n",
       "      <td>0.766563</td>\n",
       "      <td>0.459300</td>\n",
       "      <td>0.223698</td>\n",
       "      <td>Profanity</td>\n",
       "    </tr>\n",
       "  </tbody>\n",
       "</table>\n",
       "</div>"
      ],
      "text/plain": [
       "   row  flirtation  identity_attack    insult  severe_toxicity  \\\n",
       "0    0    0.593828         0.563516  0.849090         0.864632   \n",
       "1    1    0.213193         0.407253  0.925010         0.856451   \n",
       "2    2    0.474532         0.323574  0.710831         0.747318   \n",
       "3    3    0.503426         0.407557  0.796685         0.854638   \n",
       "4    4    0.394807         0.170078  0.561849         0.766563   \n",
       "\n",
       "   sexually_explicit    threat           label  \n",
       "0           0.777347  0.602494       Offensive  \n",
       "1           0.456983  0.592931       Offensive  \n",
       "2           0.933715  0.208848  Very offensive  \n",
       "3           0.955973  0.343336         Neutral  \n",
       "4           0.459300  0.223698       Profanity  "
      ]
     },
     "execution_count": 188,
     "metadata": {},
     "output_type": "execute_result"
    }
   ],
   "source": [
    "\n",
    "df.head() "
   ]
  },
  {
   "cell_type": "code",
   "execution_count": 189,
   "metadata": {},
   "outputs": [
    {
     "data": {
      "text/html": [
       "<div>\n",
       "<style scoped>\n",
       "    .dataframe tbody tr th:only-of-type {\n",
       "        vertical-align: middle;\n",
       "    }\n",
       "\n",
       "    .dataframe tbody tr th {\n",
       "        vertical-align: top;\n",
       "    }\n",
       "\n",
       "    .dataframe thead th {\n",
       "        text-align: right;\n",
       "    }\n",
       "</style>\n",
       "<table border=\"1\" class=\"dataframe\">\n",
       "  <thead>\n",
       "    <tr style=\"text-align: right;\">\n",
       "      <th></th>\n",
       "      <th>row</th>\n",
       "      <th>flirtation</th>\n",
       "      <th>identity_attack</th>\n",
       "      <th>insult</th>\n",
       "      <th>severe_toxicity</th>\n",
       "      <th>sexually_explicit</th>\n",
       "      <th>threat</th>\n",
       "      <th>label</th>\n",
       "    </tr>\n",
       "  </thead>\n",
       "  <tbody>\n",
       "    <tr>\n",
       "      <th>11995</th>\n",
       "      <td>11995</td>\n",
       "      <td>0.543366</td>\n",
       "      <td>0.684481</td>\n",
       "      <td>0.951176</td>\n",
       "      <td>0.945009</td>\n",
       "      <td>0.878651</td>\n",
       "      <td>0.765876</td>\n",
       "      <td>Offensive</td>\n",
       "    </tr>\n",
       "    <tr>\n",
       "      <th>11996</th>\n",
       "      <td>11996</td>\n",
       "      <td>0.843702</td>\n",
       "      <td>0.877267</td>\n",
       "      <td>0.933437</td>\n",
       "      <td>0.945656</td>\n",
       "      <td>0.980018</td>\n",
       "      <td>0.476850</td>\n",
       "      <td>Very offensive</td>\n",
       "    </tr>\n",
       "    <tr>\n",
       "      <th>11997</th>\n",
       "      <td>11997</td>\n",
       "      <td>0.372335</td>\n",
       "      <td>0.979884</td>\n",
       "      <td>0.963483</td>\n",
       "      <td>0.945009</td>\n",
       "      <td>0.685437</td>\n",
       "      <td>0.308390</td>\n",
       "      <td>Very offensive</td>\n",
       "    </tr>\n",
       "    <tr>\n",
       "      <th>11998</th>\n",
       "      <td>11998</td>\n",
       "      <td>0.747068</td>\n",
       "      <td>0.906385</td>\n",
       "      <td>0.953521</td>\n",
       "      <td>0.945589</td>\n",
       "      <td>0.987091</td>\n",
       "      <td>0.926245</td>\n",
       "      <td>Very offensive</td>\n",
       "    </tr>\n",
       "    <tr>\n",
       "      <th>11999</th>\n",
       "      <td>11999</td>\n",
       "      <td>0.640017</td>\n",
       "      <td>0.750959</td>\n",
       "      <td>0.934347</td>\n",
       "      <td>0.945009</td>\n",
       "      <td>0.902304</td>\n",
       "      <td>0.692056</td>\n",
       "      <td>Offensive</td>\n",
       "    </tr>\n",
       "  </tbody>\n",
       "</table>\n",
       "</div>"
      ],
      "text/plain": [
       "         row  flirtation  identity_attack    insult  severe_toxicity  \\\n",
       "11995  11995    0.543366         0.684481  0.951176         0.945009   \n",
       "11996  11996    0.843702         0.877267  0.933437         0.945656   \n",
       "11997  11997    0.372335         0.979884  0.963483         0.945009   \n",
       "11998  11998    0.747068         0.906385  0.953521         0.945589   \n",
       "11999  11999    0.640017         0.750959  0.934347         0.945009   \n",
       "\n",
       "       sexually_explicit    threat           label  \n",
       "11995           0.878651  0.765876       Offensive  \n",
       "11996           0.980018  0.476850  Very offensive  \n",
       "11997           0.685437  0.308390  Very offensive  \n",
       "11998           0.987091  0.926245  Very offensive  \n",
       "11999           0.902304  0.692056       Offensive  "
      ]
     },
     "execution_count": 189,
     "metadata": {},
     "output_type": "execute_result"
    }
   ],
   "source": [
    "\n",
    "df.tail()"
   ]
  },
  {
   "cell_type": "code",
   "execution_count": 190,
   "metadata": {},
   "outputs": [
    {
     "name": "stdout",
     "output_type": "stream",
     "text": [
      "<class 'pandas.core.frame.DataFrame'>\n",
      "RangeIndex: 12000 entries, 0 to 11999\n",
      "Data columns (total 8 columns):\n",
      " #   Column             Non-Null Count  Dtype  \n",
      "---  ------             --------------  -----  \n",
      " 0   row                12000 non-null  int64  \n",
      " 1   flirtation         12000 non-null  float64\n",
      " 2   identity_attack    12000 non-null  float64\n",
      " 3   insult             12000 non-null  float64\n",
      " 4   severe_toxicity    12000 non-null  float64\n",
      " 5   sexually_explicit  12000 non-null  float64\n",
      " 6   threat             12000 non-null  float64\n",
      " 7   label              12000 non-null  object \n",
      "dtypes: float64(6), int64(1), object(1)\n",
      "memory usage: 750.1+ KB\n"
     ]
    }
   ],
   "source": [
    "\n",
    "df.info()"
   ]
  },
  {
   "cell_type": "code",
   "execution_count": 191,
   "metadata": {},
   "outputs": [
    {
     "data": {
      "text/plain": [
       "row                  12000\n",
       "flirtation           11684\n",
       "identity_attack      10409\n",
       "insult                7420\n",
       "severe_toxicity       7967\n",
       "sexually_explicit     8215\n",
       "threat               10554\n",
       "label                    7\n",
       "dtype: int64"
      ]
     },
     "execution_count": 191,
     "metadata": {},
     "output_type": "execute_result"
    }
   ],
   "source": [
    "## Observe unique variables in the dataframe\n",
    "\n",
    "df.nunique()"
   ]
  },
  {
   "cell_type": "code",
   "execution_count": 192,
   "metadata": {},
   "outputs": [],
   "source": [
    "## Dropping 'row' column from dataframe \n",
    "df=df.drop(['row'],axis=1)\n"
   ]
  },
  {
   "cell_type": "code",
   "execution_count": 193,
   "metadata": {},
   "outputs": [
    {
     "data": {
      "text/html": [
       "<div>\n",
       "<style scoped>\n",
       "    .dataframe tbody tr th:only-of-type {\n",
       "        vertical-align: middle;\n",
       "    }\n",
       "\n",
       "    .dataframe tbody tr th {\n",
       "        vertical-align: top;\n",
       "    }\n",
       "\n",
       "    .dataframe thead th {\n",
       "        text-align: right;\n",
       "    }\n",
       "</style>\n",
       "<table border=\"1\" class=\"dataframe\">\n",
       "  <thead>\n",
       "    <tr style=\"text-align: right;\">\n",
       "      <th></th>\n",
       "      <th>flirtation</th>\n",
       "      <th>identity_attack</th>\n",
       "      <th>insult</th>\n",
       "      <th>severe_toxicity</th>\n",
       "      <th>sexually_explicit</th>\n",
       "      <th>threat</th>\n",
       "      <th>label</th>\n",
       "    </tr>\n",
       "  </thead>\n",
       "  <tbody>\n",
       "    <tr>\n",
       "      <th>0</th>\n",
       "      <td>0.593828</td>\n",
       "      <td>0.563516</td>\n",
       "      <td>0.849090</td>\n",
       "      <td>0.864632</td>\n",
       "      <td>0.777347</td>\n",
       "      <td>0.602494</td>\n",
       "      <td>Offensive</td>\n",
       "    </tr>\n",
       "    <tr>\n",
       "      <th>1</th>\n",
       "      <td>0.213193</td>\n",
       "      <td>0.407253</td>\n",
       "      <td>0.925010</td>\n",
       "      <td>0.856451</td>\n",
       "      <td>0.456983</td>\n",
       "      <td>0.592931</td>\n",
       "      <td>Offensive</td>\n",
       "    </tr>\n",
       "    <tr>\n",
       "      <th>2</th>\n",
       "      <td>0.474532</td>\n",
       "      <td>0.323574</td>\n",
       "      <td>0.710831</td>\n",
       "      <td>0.747318</td>\n",
       "      <td>0.933715</td>\n",
       "      <td>0.208848</td>\n",
       "      <td>Very offensive</td>\n",
       "    </tr>\n",
       "    <tr>\n",
       "      <th>3</th>\n",
       "      <td>0.503426</td>\n",
       "      <td>0.407557</td>\n",
       "      <td>0.796685</td>\n",
       "      <td>0.854638</td>\n",
       "      <td>0.955973</td>\n",
       "      <td>0.343336</td>\n",
       "      <td>Neutral</td>\n",
       "    </tr>\n",
       "    <tr>\n",
       "      <th>4</th>\n",
       "      <td>0.394807</td>\n",
       "      <td>0.170078</td>\n",
       "      <td>0.561849</td>\n",
       "      <td>0.766563</td>\n",
       "      <td>0.459300</td>\n",
       "      <td>0.223698</td>\n",
       "      <td>Profanity</td>\n",
       "    </tr>\n",
       "    <tr>\n",
       "      <th>...</th>\n",
       "      <td>...</td>\n",
       "      <td>...</td>\n",
       "      <td>...</td>\n",
       "      <td>...</td>\n",
       "      <td>...</td>\n",
       "      <td>...</td>\n",
       "      <td>...</td>\n",
       "    </tr>\n",
       "    <tr>\n",
       "      <th>11995</th>\n",
       "      <td>0.543366</td>\n",
       "      <td>0.684481</td>\n",
       "      <td>0.951176</td>\n",
       "      <td>0.945009</td>\n",
       "      <td>0.878651</td>\n",
       "      <td>0.765876</td>\n",
       "      <td>Offensive</td>\n",
       "    </tr>\n",
       "    <tr>\n",
       "      <th>11996</th>\n",
       "      <td>0.843702</td>\n",
       "      <td>0.877267</td>\n",
       "      <td>0.933437</td>\n",
       "      <td>0.945656</td>\n",
       "      <td>0.980018</td>\n",
       "      <td>0.476850</td>\n",
       "      <td>Very offensive</td>\n",
       "    </tr>\n",
       "    <tr>\n",
       "      <th>11997</th>\n",
       "      <td>0.372335</td>\n",
       "      <td>0.979884</td>\n",
       "      <td>0.963483</td>\n",
       "      <td>0.945009</td>\n",
       "      <td>0.685437</td>\n",
       "      <td>0.308390</td>\n",
       "      <td>Very offensive</td>\n",
       "    </tr>\n",
       "    <tr>\n",
       "      <th>11998</th>\n",
       "      <td>0.747068</td>\n",
       "      <td>0.906385</td>\n",
       "      <td>0.953521</td>\n",
       "      <td>0.945589</td>\n",
       "      <td>0.987091</td>\n",
       "      <td>0.926245</td>\n",
       "      <td>Very offensive</td>\n",
       "    </tr>\n",
       "    <tr>\n",
       "      <th>11999</th>\n",
       "      <td>0.640017</td>\n",
       "      <td>0.750959</td>\n",
       "      <td>0.934347</td>\n",
       "      <td>0.945009</td>\n",
       "      <td>0.902304</td>\n",
       "      <td>0.692056</td>\n",
       "      <td>Offensive</td>\n",
       "    </tr>\n",
       "  </tbody>\n",
       "</table>\n",
       "<p>12000 rows × 7 columns</p>\n",
       "</div>"
      ],
      "text/plain": [
       "       flirtation  identity_attack    insult  severe_toxicity  \\\n",
       "0        0.593828         0.563516  0.849090         0.864632   \n",
       "1        0.213193         0.407253  0.925010         0.856451   \n",
       "2        0.474532         0.323574  0.710831         0.747318   \n",
       "3        0.503426         0.407557  0.796685         0.854638   \n",
       "4        0.394807         0.170078  0.561849         0.766563   \n",
       "...           ...              ...       ...              ...   \n",
       "11995    0.543366         0.684481  0.951176         0.945009   \n",
       "11996    0.843702         0.877267  0.933437         0.945656   \n",
       "11997    0.372335         0.979884  0.963483         0.945009   \n",
       "11998    0.747068         0.906385  0.953521         0.945589   \n",
       "11999    0.640017         0.750959  0.934347         0.945009   \n",
       "\n",
       "       sexually_explicit    threat           label  \n",
       "0               0.777347  0.602494       Offensive  \n",
       "1               0.456983  0.592931       Offensive  \n",
       "2               0.933715  0.208848  Very offensive  \n",
       "3               0.955973  0.343336         Neutral  \n",
       "4               0.459300  0.223698       Profanity  \n",
       "...                  ...       ...             ...  \n",
       "11995           0.878651  0.765876       Offensive  \n",
       "11996           0.980018  0.476850  Very offensive  \n",
       "11997           0.685437  0.308390  Very offensive  \n",
       "11998           0.987091  0.926245  Very offensive  \n",
       "11999           0.902304  0.692056       Offensive  \n",
       "\n",
       "[12000 rows x 7 columns]"
      ]
     },
     "execution_count": 193,
     "metadata": {},
     "output_type": "execute_result"
    }
   ],
   "source": [
    "## View of new dataframe\n",
    "df"
   ]
  },
  {
   "cell_type": "code",
   "execution_count": 194,
   "metadata": {},
   "outputs": [],
   "source": [
    "## Creating numerical columns \n",
    "num_cols=['flirtation','identity_attack','insult','severe_toxicity','sexually_explicit','threat']\n",
    "\n",
    "## Creating categorical variables\n",
    "cat_cols=['label']\n"
   ]
  },
  {
   "cell_type": "code",
   "execution_count": 195,
   "metadata": {},
   "outputs": [
    {
     "data": {
      "text/html": [
       "<div>\n",
       "<style scoped>\n",
       "    .dataframe tbody tr th:only-of-type {\n",
       "        vertical-align: middle;\n",
       "    }\n",
       "\n",
       "    .dataframe tbody tr th {\n",
       "        vertical-align: top;\n",
       "    }\n",
       "\n",
       "    .dataframe thead th {\n",
       "        text-align: right;\n",
       "    }\n",
       "</style>\n",
       "<table border=\"1\" class=\"dataframe\">\n",
       "  <thead>\n",
       "    <tr style=\"text-align: right;\">\n",
       "      <th></th>\n",
       "      <th>count</th>\n",
       "      <th>mean</th>\n",
       "      <th>std</th>\n",
       "      <th>min</th>\n",
       "      <th>25%</th>\n",
       "      <th>50%</th>\n",
       "      <th>75%</th>\n",
       "      <th>max</th>\n",
       "    </tr>\n",
       "  </thead>\n",
       "  <tbody>\n",
       "    <tr>\n",
       "      <th>flirtation</th>\n",
       "      <td>12000.0</td>\n",
       "      <td>0.416813</td>\n",
       "      <td>0.185237</td>\n",
       "      <td>0.029391</td>\n",
       "      <td>0.285029</td>\n",
       "      <td>0.403791</td>\n",
       "      <td>0.501138</td>\n",
       "      <td>0.949213</td>\n",
       "    </tr>\n",
       "    <tr>\n",
       "      <th>identity_attack</th>\n",
       "      <td>12000.0</td>\n",
       "      <td>0.438216</td>\n",
       "      <td>0.266264</td>\n",
       "      <td>0.037710</td>\n",
       "      <td>0.232623</td>\n",
       "      <td>0.353419</td>\n",
       "      <td>0.606927</td>\n",
       "      <td>0.993878</td>\n",
       "    </tr>\n",
       "    <tr>\n",
       "      <th>insult</th>\n",
       "      <td>12000.0</td>\n",
       "      <td>0.801580</td>\n",
       "      <td>0.162062</td>\n",
       "      <td>0.024430</td>\n",
       "      <td>0.699709</td>\n",
       "      <td>0.843521</td>\n",
       "      <td>0.936827</td>\n",
       "      <td>0.994336</td>\n",
       "    </tr>\n",
       "    <tr>\n",
       "      <th>severe_toxicity</th>\n",
       "      <td>12000.0</td>\n",
       "      <td>0.821883</td>\n",
       "      <td>0.095602</td>\n",
       "      <td>0.024729</td>\n",
       "      <td>0.747318</td>\n",
       "      <td>0.821408</td>\n",
       "      <td>0.894143</td>\n",
       "      <td>0.984462</td>\n",
       "    </tr>\n",
       "    <tr>\n",
       "      <th>sexually_explicit</th>\n",
       "      <td>12000.0</td>\n",
       "      <td>0.556574</td>\n",
       "      <td>0.286541</td>\n",
       "      <td>0.017585</td>\n",
       "      <td>0.305679</td>\n",
       "      <td>0.548136</td>\n",
       "      <td>0.820784</td>\n",
       "      <td>1.000000</td>\n",
       "    </tr>\n",
       "    <tr>\n",
       "      <th>threat</th>\n",
       "      <td>12000.0</td>\n",
       "      <td>0.405262</td>\n",
       "      <td>0.256686</td>\n",
       "      <td>0.026123</td>\n",
       "      <td>0.224373</td>\n",
       "      <td>0.307148</td>\n",
       "      <td>0.497426</td>\n",
       "      <td>1.000000</td>\n",
       "    </tr>\n",
       "  </tbody>\n",
       "</table>\n",
       "</div>"
      ],
      "text/plain": [
       "                     count      mean       std       min       25%       50%  \\\n",
       "flirtation         12000.0  0.416813  0.185237  0.029391  0.285029  0.403791   \n",
       "identity_attack    12000.0  0.438216  0.266264  0.037710  0.232623  0.353419   \n",
       "insult             12000.0  0.801580  0.162062  0.024430  0.699709  0.843521   \n",
       "severe_toxicity    12000.0  0.821883  0.095602  0.024729  0.747318  0.821408   \n",
       "sexually_explicit  12000.0  0.556574  0.286541  0.017585  0.305679  0.548136   \n",
       "threat             12000.0  0.405262  0.256686  0.026123  0.224373  0.307148   \n",
       "\n",
       "                        75%       max  \n",
       "flirtation         0.501138  0.949213  \n",
       "identity_attack    0.606927  0.993878  \n",
       "insult             0.936827  0.994336  \n",
       "severe_toxicity    0.894143  0.984462  \n",
       "sexually_explicit  0.820784  1.000000  \n",
       "threat             0.497426  1.000000  "
      ]
     },
     "execution_count": 195,
     "metadata": {},
     "output_type": "execute_result"
    }
   ],
   "source": [
    "## Checking summary statistics \n",
    "df[num_cols].describe().T"
   ]
  },
  {
   "cell_type": "code",
   "execution_count": 196,
   "metadata": {},
   "outputs": [
    {
     "data": {
      "image/png": "[encoded data removed]",
      "text/plain": [
       "<Figure size 432x432 with 6 Axes>"
      ]
     },
     "metadata": {
      "needs_background": "light"
     },
     "output_type": "display_data"
    }
   ],
   "source": [
    "## Creating histograms \n",
    "df[num_cols].hist(figsize=(6,6))\n",
    "plt.show()\n"
   ]
  },
  {
   "cell_type": "code",
   "execution_count": 197,
   "metadata": {},
   "outputs": [
    {
     "name": "stdout",
     "output_type": "stream",
     "text": [
      "Offensive              0.497167\n",
      "Profanity              0.285833\n",
      "Very offensive         0.094833\n",
      "Neutral                0.067833\n",
      "Extremely offensive    0.035500\n",
      "Unknown                0.011667\n",
      "Hate speech            0.007167\n",
      "Name: label, dtype: float64\n",
      "****************************************\n"
     ]
    }
   ],
   "source": [
    "\n",
    "for i in cat_cols:\n",
    "    print(df[i].value_counts(normalize=True))\n",
    "    print('*'*40)"
   ]
  },
  {
   "cell_type": "code",
   "execution_count": 198,
   "metadata": {},
   "outputs": [
    {
     "data": {
      "text/html": [
       "<div>\n",
       "<style scoped>\n",
       "    .dataframe tbody tr th:only-of-type {\n",
       "        vertical-align: middle;\n",
       "    }\n",
       "\n",
       "    .dataframe tbody tr th {\n",
       "        vertical-align: top;\n",
       "    }\n",
       "\n",
       "    .dataframe thead th {\n",
       "        text-align: right;\n",
       "    }\n",
       "</style>\n",
       "<table border=\"1\" class=\"dataframe\">\n",
       "  <thead>\n",
       "    <tr style=\"text-align: right;\">\n",
       "      <th></th>\n",
       "      <th>flirtation</th>\n",
       "      <th>identity_attack</th>\n",
       "      <th>insult</th>\n",
       "      <th>severe_toxicity</th>\n",
       "      <th>sexually_explicit</th>\n",
       "      <th>threat</th>\n",
       "    </tr>\n",
       "    <tr>\n",
       "      <th>label</th>\n",
       "      <th></th>\n",
       "      <th></th>\n",
       "      <th></th>\n",
       "      <th></th>\n",
       "      <th></th>\n",
       "      <th></th>\n",
       "    </tr>\n",
       "  </thead>\n",
       "  <tbody>\n",
       "    <tr>\n",
       "      <th>Extremely offensive</th>\n",
       "      <td>0.423392</td>\n",
       "      <td>0.924664</td>\n",
       "      <td>0.909239</td>\n",
       "      <td>0.880699</td>\n",
       "      <td>0.546564</td>\n",
       "      <td>0.450820</td>\n",
       "    </tr>\n",
       "    <tr>\n",
       "      <th>Hate speech</th>\n",
       "      <td>0.426536</td>\n",
       "      <td>0.939899</td>\n",
       "      <td>0.908478</td>\n",
       "      <td>0.903759</td>\n",
       "      <td>0.580652</td>\n",
       "      <td>0.535012</td>\n",
       "    </tr>\n",
       "    <tr>\n",
       "      <th>Neutral</th>\n",
       "      <td>0.379575</td>\n",
       "      <td>0.364933</td>\n",
       "      <td>0.631381</td>\n",
       "      <td>0.745947</td>\n",
       "      <td>0.327697</td>\n",
       "      <td>0.705657</td>\n",
       "    </tr>\n",
       "    <tr>\n",
       "      <th>Offensive</th>\n",
       "      <td>0.423398</td>\n",
       "      <td>0.454108</td>\n",
       "      <td>0.855664</td>\n",
       "      <td>0.842912</td>\n",
       "      <td>0.588095</td>\n",
       "      <td>0.378739</td>\n",
       "    </tr>\n",
       "    <tr>\n",
       "      <th>Profanity</th>\n",
       "      <td>0.417297</td>\n",
       "      <td>0.262551</td>\n",
       "      <td>0.714536</td>\n",
       "      <td>0.780919</td>\n",
       "      <td>0.547663</td>\n",
       "      <td>0.313664</td>\n",
       "    </tr>\n",
       "    <tr>\n",
       "      <th>Unknown</th>\n",
       "      <td>0.441348</td>\n",
       "      <td>0.458553</td>\n",
       "      <td>0.517973</td>\n",
       "      <td>0.558312</td>\n",
       "      <td>0.435551</td>\n",
       "      <td>0.403991</td>\n",
       "    </tr>\n",
       "    <tr>\n",
       "      <th>Very offensive</th>\n",
       "      <td>0.401245</td>\n",
       "      <td>0.714278</td>\n",
       "      <td>0.888654</td>\n",
       "      <td>0.893642</td>\n",
       "      <td>0.598707</td>\n",
       "      <td>0.578815</td>\n",
       "    </tr>\n",
       "  </tbody>\n",
       "</table>\n",
       "</div>"
      ],
      "text/plain": [
       "                     flirtation  identity_attack    insult  severe_toxicity  \\\n",
       "label                                                                         \n",
       "Extremely offensive    0.423392         0.924664  0.909239         0.880699   \n",
       "Hate speech            0.426536         0.939899  0.908478         0.903759   \n",
       "Neutral                0.379575         0.364933  0.631381         0.745947   \n",
       "Offensive              0.423398         0.454108  0.855664         0.842912   \n",
       "Profanity              0.417297         0.262551  0.714536         0.780919   \n",
       "Unknown                0.441348         0.458553  0.517973         0.558312   \n",
       "Very offensive         0.401245         0.714278  0.888654         0.893642   \n",
       "\n",
       "                     sexually_explicit    threat  \n",
       "label                                             \n",
       "Extremely offensive           0.546564  0.450820  \n",
       "Hate speech                   0.580652  0.535012  \n",
       "Neutral                       0.327697  0.705657  \n",
       "Offensive                     0.588095  0.378739  \n",
       "Profanity                     0.547663  0.313664  \n",
       "Unknown                       0.435551  0.403991  \n",
       "Very offensive                0.598707  0.578815  "
      ]
     },
     "execution_count": 198,
     "metadata": {},
     "output_type": "execute_result"
    }
   ],
   "source": [
    "## The relationships between labels and numerical variable \n",
    "df.groupby(['label'])[num_cols].mean()"
   ]
  },
  {
   "cell_type": "code",
   "execution_count": 199,
   "metadata": {},
   "outputs": [
    {
     "data": {
      "text/plain": [
       "<AxesSubplot:>"
      ]
     },
     "execution_count": 199,
     "metadata": {},
     "output_type": "execute_result"
    },
    {
     "data": {
      "image/png": "[encoded data removed]",
      "text/plain": [
       "<Figure size 1080x576 with 2 Axes>"
      ]
     },
     "metadata": {
      "needs_background": "light"
     },
     "output_type": "display_data"
    }
   ],
   "source": [
    "# Create confusion matrix to determine strongest correlation \n",
    "plt.figure(figsize=(15,8))\n",
    "sns.heatmap(df[num_cols].corr(),annot=True, fmt='0.2f', cmap='YlGnBu')"
   ]
  },
  {
   "cell_type": "code",
   "execution_count": 206,
   "metadata": {},
   "outputs": [
    {
     "data": {
      "text/html": [
       "<div>\n",
       "<style scoped>\n",
       "    .dataframe tbody tr th:only-of-type {\n",
       "        vertical-align: middle;\n",
       "    }\n",
       "\n",
       "    .dataframe tbody tr th {\n",
       "        vertical-align: top;\n",
       "    }\n",
       "\n",
       "    .dataframe thead th {\n",
       "        text-align: right;\n",
       "    }\n",
       "</style>\n",
       "<table border=\"1\" class=\"dataframe\">\n",
       "  <thead>\n",
       "    <tr style=\"text-align: right;\">\n",
       "      <th></th>\n",
       "      <th>flirtation</th>\n",
       "      <th>identity_attack</th>\n",
       "      <th>insult</th>\n",
       "      <th>severe_toxicity</th>\n",
       "      <th>sexually_explicit</th>\n",
       "      <th>threat</th>\n",
       "      <th>label</th>\n",
       "    </tr>\n",
       "  </thead>\n",
       "  <tbody>\n",
       "    <tr>\n",
       "      <th>0</th>\n",
       "      <td>0.593828</td>\n",
       "      <td>0.563516</td>\n",
       "      <td>0.849090</td>\n",
       "      <td>0.864632</td>\n",
       "      <td>0.777347</td>\n",
       "      <td>0.602494</td>\n",
       "      <td>Offensive</td>\n",
       "    </tr>\n",
       "    <tr>\n",
       "      <th>1</th>\n",
       "      <td>0.213193</td>\n",
       "      <td>0.407253</td>\n",
       "      <td>0.925010</td>\n",
       "      <td>0.856451</td>\n",
       "      <td>0.456983</td>\n",
       "      <td>0.592931</td>\n",
       "      <td>Offensive</td>\n",
       "    </tr>\n",
       "    <tr>\n",
       "      <th>2</th>\n",
       "      <td>0.474532</td>\n",
       "      <td>0.323574</td>\n",
       "      <td>0.710831</td>\n",
       "      <td>0.747318</td>\n",
       "      <td>0.933715</td>\n",
       "      <td>0.208848</td>\n",
       "      <td>Very offensive</td>\n",
       "    </tr>\n",
       "    <tr>\n",
       "      <th>3</th>\n",
       "      <td>0.503426</td>\n",
       "      <td>0.407557</td>\n",
       "      <td>0.796685</td>\n",
       "      <td>0.854638</td>\n",
       "      <td>0.955973</td>\n",
       "      <td>0.343336</td>\n",
       "      <td>Neutral</td>\n",
       "    </tr>\n",
       "    <tr>\n",
       "      <th>4</th>\n",
       "      <td>0.394807</td>\n",
       "      <td>0.170078</td>\n",
       "      <td>0.561849</td>\n",
       "      <td>0.766563</td>\n",
       "      <td>0.459300</td>\n",
       "      <td>0.223698</td>\n",
       "      <td>Profanity</td>\n",
       "    </tr>\n",
       "  </tbody>\n",
       "</table>\n",
       "</div>"
      ],
      "text/plain": [
       "   flirtation  identity_attack    insult  severe_toxicity  sexually_explicit  \\\n",
       "0    0.593828         0.563516  0.849090         0.864632           0.777347   \n",
       "1    0.213193         0.407253  0.925010         0.856451           0.456983   \n",
       "2    0.474532         0.323574  0.710831         0.747318           0.933715   \n",
       "3    0.503426         0.407557  0.796685         0.854638           0.955973   \n",
       "4    0.394807         0.170078  0.561849         0.766563           0.459300   \n",
       "\n",
       "     threat           label  \n",
       "0  0.602494       Offensive  \n",
       "1  0.592931       Offensive  \n",
       "2  0.208848  Very offensive  \n",
       "3  0.343336         Neutral  \n",
       "4  0.223698       Profanity  "
      ]
     },
     "execution_count": 206,
     "metadata": {},
     "output_type": "execute_result"
    }
   ],
   "source": [
    "df.head()"
   ]
  },
  {
   "cell_type": "code",
   "execution_count": 214,
   "metadata": {},
   "outputs": [
    {
     "data": {
      "text/plain": [
       "flirtation           0.094356\n",
       "identity_attack      0.445643\n",
       "insult               0.659208\n",
       "severe_toxicity      1.000000\n",
       "sexually_explicit    0.352226\n",
       "threat               0.256016\n",
       "Name: severe_toxicity, dtype: float64"
      ]
     },
     "execution_count": 214,
     "metadata": {},
     "output_type": "execute_result"
    }
   ],
   "source": [
    "# Deduce strongest correlating variables from dataset\n",
    "df.corr()['severe_toxicity']\n"
   ]
  },
  {
   "cell_type": "code",
   "execution_count": 215,
   "metadata": {},
   "outputs": [
    {
     "data": {
      "text/plain": [
       "Text(0, 0.5, 'toxicity')"
      ]
     },
     "execution_count": 215,
     "metadata": {},
     "output_type": "execute_result"
    },
    {
     "data": {
      "image/png": "[encoded data removed]",
      "text/plain": [
       "<Figure size 432x288 with 1 Axes>"
      ]
     },
     "metadata": {
      "needs_background": "light"
     },
     "output_type": "display_data"
    }
   ],
   "source": [
    "insults = df['insult']\n",
    "toxicity = df['severe_toxicity']\n",
    "\n",
    "plt.scatter(insults, toxicity)\n",
    "plt.xlabel('insults')\n",
    "plt.ylabel('toxicity')\n"
   ]
  },
  {
   "cell_type": "code",
   "execution_count": 216,
   "metadata": {},
   "outputs": [
    {
     "data": {
      "text/plain": [
       "((12000,), (12000,))"
      ]
     },
     "execution_count": 216,
     "metadata": {},
     "output_type": "execute_result"
    }
   ],
   "source": [
    "insults_np = insults.to_numpy()\n",
    "toxicity_np = toxicity.to_numpy()\n",
    "\n",
    "insults_np.shape, toxicity_np.shape"
   ]
  },
  {
   "cell_type": "code",
   "execution_count": 219,
   "metadata": {},
   "outputs": [
    {
     "data": {
      "text/plain": [
       "(12000,)"
      ]
     },
     "execution_count": 219,
     "metadata": {},
     "output_type": "execute_result"
    }
   ],
   "source": [
    "sklearn_model = LinearRegression().fit(insults_np.reshape((12000, 1)), toxicity_np)\n",
    "sklearn_toxicity_predictions = sklearn_model.predict(insults_np.reshape((12000, 1)))\n",
    "sklearn_toxicity_predictions.shape"
   ]
  },
  {
   "cell_type": "code",
   "execution_count": 220,
   "metadata": {},
   "outputs": [
    {
     "data": {
      "text/plain": [
       "<matplotlib.collections.PathCollection at 0x7fcea384f100>"
      ]
     },
     "execution_count": 220,
     "metadata": {},
     "output_type": "execute_result"
    },
    {
     "data": {
      "image/png": "[encoded data removed]",
      "text/plain": [
       "<Figure size 432x288 with 1 Axes>"
      ]
     },
     "metadata": {
      "needs_background": "light"
     },
     "output_type": "display_data"
    }
   ],
   "source": [
    "\n",
    "insults = df['insult']\n",
    "toxicity = df['severe_toxicity']\n",
    "\n",
    "plt.scatter(insults, toxicity)\n",
    "plt.xlabel('insults')\n",
    "plt.ylabel('toxicity')\n",
    "\n",
    "plt.scatter(insults, sklearn_toxicity_predictions)"
   ]
  },
  {
   "cell_type": "code",
   "execution_count": 221,
   "metadata": {},
   "outputs": [
    {
     "data": {
      "text/html": [
       "<div>\n",
       "<style scoped>\n",
       "    .dataframe tbody tr th:only-of-type {\n",
       "        vertical-align: middle;\n",
       "    }\n",
       "\n",
       "    .dataframe tbody tr th {\n",
       "        vertical-align: top;\n",
       "    }\n",
       "\n",
       "    .dataframe thead th {\n",
       "        text-align: right;\n",
       "    }\n",
       "</style>\n",
       "<table border=\"1\" class=\"dataframe\">\n",
       "  <thead>\n",
       "    <tr style=\"text-align: right;\">\n",
       "      <th></th>\n",
       "      <th>Insults</th>\n",
       "      <th>Toxicity</th>\n",
       "      <th>SK learn predictions</th>\n",
       "    </tr>\n",
       "  </thead>\n",
       "  <tbody>\n",
       "    <tr>\n",
       "      <th>0</th>\n",
       "      <td>0.849090</td>\n",
       "      <td>0.864632</td>\n",
       "      <td>0.840358</td>\n",
       "    </tr>\n",
       "    <tr>\n",
       "      <th>1</th>\n",
       "      <td>0.925010</td>\n",
       "      <td>0.856451</td>\n",
       "      <td>0.869882</td>\n",
       "    </tr>\n",
       "    <tr>\n",
       "      <th>2</th>\n",
       "      <td>0.710831</td>\n",
       "      <td>0.747318</td>\n",
       "      <td>0.786593</td>\n",
       "    </tr>\n",
       "    <tr>\n",
       "      <th>3</th>\n",
       "      <td>0.796685</td>\n",
       "      <td>0.854638</td>\n",
       "      <td>0.819980</td>\n",
       "    </tr>\n",
       "    <tr>\n",
       "      <th>4</th>\n",
       "      <td>0.561849</td>\n",
       "      <td>0.766563</td>\n",
       "      <td>0.728658</td>\n",
       "    </tr>\n",
       "    <tr>\n",
       "      <th>...</th>\n",
       "      <td>...</td>\n",
       "      <td>...</td>\n",
       "      <td>...</td>\n",
       "    </tr>\n",
       "    <tr>\n",
       "      <th>11995</th>\n",
       "      <td>0.951176</td>\n",
       "      <td>0.945009</td>\n",
       "      <td>0.880057</td>\n",
       "    </tr>\n",
       "    <tr>\n",
       "      <th>11996</th>\n",
       "      <td>0.933437</td>\n",
       "      <td>0.945656</td>\n",
       "      <td>0.873159</td>\n",
       "    </tr>\n",
       "    <tr>\n",
       "      <th>11997</th>\n",
       "      <td>0.963483</td>\n",
       "      <td>0.945009</td>\n",
       "      <td>0.884843</td>\n",
       "    </tr>\n",
       "    <tr>\n",
       "      <th>11998</th>\n",
       "      <td>0.953521</td>\n",
       "      <td>0.945589</td>\n",
       "      <td>0.880969</td>\n",
       "    </tr>\n",
       "    <tr>\n",
       "      <th>11999</th>\n",
       "      <td>0.934347</td>\n",
       "      <td>0.945009</td>\n",
       "      <td>0.873513</td>\n",
       "    </tr>\n",
       "  </tbody>\n",
       "</table>\n",
       "<p>12000 rows × 3 columns</p>\n",
       "</div>"
      ],
      "text/plain": [
       "        Insults  Toxicity  SK learn predictions\n",
       "0      0.849090  0.864632              0.840358\n",
       "1      0.925010  0.856451              0.869882\n",
       "2      0.710831  0.747318              0.786593\n",
       "3      0.796685  0.854638              0.819980\n",
       "4      0.561849  0.766563              0.728658\n",
       "...         ...       ...                   ...\n",
       "11995  0.951176  0.945009              0.880057\n",
       "11996  0.933437  0.945656              0.873159\n",
       "11997  0.963483  0.945009              0.884843\n",
       "11998  0.953521  0.945589              0.880969\n",
       "11999  0.934347  0.945009              0.873513\n",
       "\n",
       "[12000 rows x 3 columns]"
      ]
     },
     "execution_count": 221,
     "metadata": {},
     "output_type": "execute_result"
    }
   ],
   "source": [
    "predictions_df = pd.DataFrame({'Insults':insults,\n",
    "'Toxicity':toxicity,\n",
    "'SK learn predictions':sklearn_toxicity_predictions})\n",
    "predictions_df"
   ]
  },
  {
   "cell_type": "code",
   "execution_count": 228,
   "metadata": {},
   "outputs": [],
   "source": [
    "# Assuming toxicity[i] = alpha + (beta * insults[i]) + error\n",
    "\n",
    "def get_predictions(model, x):\n",
    "    '''\n",
    "    Obtain the predictions for the given model and inputs. \n",
    "\n",
    "    model: {'alpha_hat':Number, 'beta_hat':Number}\n",
    "    x: np.array of Floats with shape (n,) of inputs\n",
    "\n",
    "    Returns: np.array of Floats with shape (n,). \n",
    "    '''\n",
    "\n",
    "    alpha_hat = model['alpha_hat']\n",
    "    beta_hat = model['beta_hat']\n",
    "\n",
    "    return alpha_hat + beta_hat * x"
   ]
  },
  {
   "cell_type": "code",
   "execution_count": 249,
   "metadata": {},
   "outputs": [
    {
     "data": {
      "text/plain": [
       "array([0.26, 0.42, 0.58])"
      ]
     },
     "execution_count": 249,
     "metadata": {},
     "output_type": "execute_result"
    }
   ],
   "source": [
    "test_model = {'alpha_hat':0.1, 'beta_hat':0.8}\n",
    "test_x = np.array([0.2, 0.4, 0.6])\n",
    "get_predictions(test_model, test_x)"
   ]
  },
  {
   "cell_type": "code",
   "execution_count": 250,
   "metadata": {},
   "outputs": [
    {
     "data": {
      "text/plain": [
       "<matplotlib.collections.PathCollection at 0x7fced1937280>"
      ]
     },
     "execution_count": 250,
     "metadata": {},
     "output_type": "execute_result"
    },
    {
     "data": {
      "image/png": "[encoded data removed]",
      "text/plain": [
       "<Figure size 432x288 with 1 Axes>"
      ]
     },
     "metadata": {
      "needs_background": "light"
     },
     "output_type": "display_data"
    }
   ],
   "source": [
    "insults = df['insult']\n",
    "toxicity = df['severe_toxicity']\n",
    "\n",
    "plt.scatter(insults, toxicity)\n",
    "plt.xlabel('insults')\n",
    "plt.ylabel('toxicity')\n",
    "\n",
    "plt.scatter(insults, get_predictions(test_model, insults_np))"
   ]
  }
 ],
 "metadata": {
  "kernelspec": {
   "display_name": "Python 3.9.7 ('base')",
   "language": "python",
   "name": "python3"
  },
  "language_info": {
   "codemirror_mode": {
    "name": "ipython",
    "version": 3
   },
   "file_extension": ".py",
   "mimetype": "text/x-python",
   "name": "python",
   "nbconvert_exporter": "python",
   "pygments_lexer": "ipython3",
   "version": "3.9.7"
  },
  "orig_nbformat": 4,
  "vscode": {
   "interpreter": {
    "hash": "2e9f2a2642723ef95c231da7116de680372ceb7896503ba06ff10f0087465165"
   }
  }
 },
 "nbformat": 4,
 "nbformat_minor": 2
}
